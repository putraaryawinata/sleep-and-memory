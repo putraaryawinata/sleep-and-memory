{
 "cells": [
  {
   "cell_type": "markdown",
   "metadata": {},
   "source": [
    "### Initialization"
   ]
  },
  {
   "cell_type": "code",
   "execution_count": 25,
   "metadata": {},
   "outputs": [],
   "source": [
    "import numpy as np\n",
    "import pandas as pd\n",
    "import matplotlib.pyplot as plt\n",
    "from scipy.stats import chi2\n",
    "\n",
    "from sklearn.ensemble import AdaBoostRegressor, \\\n",
    "    GradientBoostingRegressor, RandomForestRegressor\n",
    "from sklearn.svm import SVR\n",
    "from sklearn.tree import DecisionTreeRegressor\n",
    "from sklearn.model_selection import train_test_split\n",
    "from sklearn.metrics import mean_squared_error, mean_absolute_error, \\\n",
    "    r2_score\n",
    "\n",
    "import tensorflow as tf\n",
    "from tensorflow.keras.callbacks import EarlyStopping"
   ]
  },
  {
   "cell_type": "code",
   "execution_count": 2,
   "metadata": {},
   "outputs": [],
   "source": [
    "dataset = pd.read_csv(\"dataset/psqi_memory_update.csv\")"
   ]
  },
  {
   "cell_type": "markdown",
   "metadata": {},
   "source": [
    "Removing outlier"
   ]
  },
  {
   "cell_type": "code",
   "execution_count": 3,
   "metadata": {},
   "outputs": [],
   "source": [
    "dataset = dataset[dataset[\"Scenery_score\"] != 0]\n",
    "dataset = dataset[dataset[\"Reading_score\"] != 0]\n",
    "dataset = dataset[dataset[\"Digit_score\"] != 0]"
   ]
  },
  {
   "cell_type": "code",
   "execution_count": 103,
   "metadata": {},
   "outputs": [
    {
     "name": "stdout",
     "output_type": "stream",
     "text": [
      "237\n"
     ]
    }
   ],
   "source": [
    "# Function to remove outliers using Mahalanobis distance\n",
    "def remove_outliers_bivariate(df, columns, threshold=3.0):\n",
    "    # Calculate mean and covariance matrix\n",
    "    mean = df[columns].mean()\n",
    "    cov_matrix = df[columns].cov()\n",
    "    \n",
    "    # Calculate inverse covariance matrix\n",
    "    inv_cov_matrix = np.linalg.inv(cov_matrix)\n",
    "    \n",
    "    # Calculate Mahalanobis distance for each data point\n",
    "    delta = df[columns] - mean\n",
    "    mahalanobis_sq = np.sum(np.dot(delta, inv_cov_matrix) * delta, axis=1)\n",
    "    \n",
    "    # Define the threshold for Mahalanobis distance\n",
    "    chi2_threshold = chi2.ppf(0.95, df=len(columns))\n",
    "    \n",
    "    # Keep only the data points with Mahalanobis distance below the threshold\n",
    "    df_filtered = df[mahalanobis_sq <= chi2_threshold]\n",
    "    \n",
    "    return df_filtered\n",
    "\n",
    "# Specify columns for outlier removal: Using columns with lowest VIF\n",
    "columns_to_check = ['Consumption_of_Sleeping_Pills','Scenery_score']\n",
    "\n",
    "# Remove outliers\n",
    "dataset_bi = remove_outliers_bivariate(dataset, columns_to_check)\n",
    "print(len(dataset_bi))"
   ]
  },
  {
   "cell_type": "code",
   "execution_count": 4,
   "metadata": {},
   "outputs": [
    {
     "name": "stdout",
     "output_type": "stream",
     "text": [
      "249\n"
     ]
    }
   ],
   "source": [
    "# Function to remove outliers using Mahalanobis distance\n",
    "def remove_outliers_multivariate(df, threshold=3.0):\n",
    "    # Calculate mean and covariance matrix\n",
    "    mean = df.mean()\n",
    "    cov_matrix = df.cov()\n",
    "    \n",
    "    # Calculate inverse covariance matrix\n",
    "    inv_cov_matrix = np.linalg.inv(cov_matrix)\n",
    "    \n",
    "    # Calculate Mahalanobis distance for each data point\n",
    "    delta = df - mean\n",
    "    mahalanobis_sq = np.sum(np.dot(delta, inv_cov_matrix) * delta, axis=1)\n",
    "    \n",
    "    # Define the threshold for Mahalanobis distance\n",
    "    chi2_threshold = chi2.ppf(0.95, df=len(df.columns))\n",
    "    \n",
    "    # Keep only the data points with Mahalanobis distance below the threshold\n",
    "    df_filtered = df[mahalanobis_sq <= chi2_threshold]\n",
    "    \n",
    "    return df_filtered\n",
    "\n",
    "# Remove outliers\n",
    "dataset_multi_out = remove_outliers_multivariate(dataset)\n",
    "print(len(dataset_multi_out))"
   ]
  },
  {
   "cell_type": "code",
   "execution_count": 5,
   "metadata": {},
   "outputs": [],
   "source": [
    "dataset = dataset_multi_out\n",
    "X = dataset.iloc[:, 1:7].values\n",
    "X = np.delete(X, 3, axis=1)\n",
    "y_scene = dataset.iloc[:, 7].values\n",
    "y_read = dataset.iloc[:, 8].values\n",
    "y_digit = dataset.iloc[:, 9].values"
   ]
  },
  {
   "cell_type": "code",
   "execution_count": 6,
   "metadata": {},
   "outputs": [],
   "source": [
    "X_scene_train, X_scene_test, y_scene_train, y_scene_test = train_test_split(X, y_scene, test_size=0.2, random_state=42)\n",
    "X_read_train, X_read_test, y_read_train, y_read_test = train_test_split(X, y_read, test_size=0.2, random_state=42)\n",
    "X_digit_train, X_digit_test, y_digit_train, y_digit_test = train_test_split(X, y_digit, test_size=0.2, random_state=42)"
   ]
  },
  {
   "cell_type": "markdown",
   "metadata": {},
   "source": [
    "### Define Function"
   ]
  },
  {
   "cell_type": "code",
   "execution_count": 7,
   "metadata": {},
   "outputs": [],
   "source": [
    "def mape_calc(y_true, y_pred):\n",
    "    data_len = len(y_true)\n",
    "    mape = 0\n",
    "    calc_zero = 0\n",
    "    for i in range(data_len):\n",
    "        if y_true[i] == 0:\n",
    "            calc_zero += 1\n",
    "            continue\n",
    "        mape += np.mean(np.abs((y_true[i], y_pred[i]) / y_true[i]))\n",
    "    return mape, calc_zero"
   ]
  },
  {
   "cell_type": "markdown",
   "metadata": {},
   "source": [
    "### SVR"
   ]
  },
  {
   "cell_type": "code",
   "execution_count": 14,
   "metadata": {},
   "outputs": [
    {
     "name": "stdout",
     "output_type": "stream",
     "text": [
      "Mean Squared Error: 13.001385359435094\n",
      "Mean Absolute Error: 2.677990050355957\n",
      "R squared: 0.06354365154318076\n",
      "MAPE: 49.62612236416027 with skip data: 0\n"
     ]
    }
   ],
   "source": [
    "# Create SVR model\n",
    "svr = SVR(kernel='rbf', C=10)  # You can specify other kernel functions as well\n",
    "\n",
    "# Train the SVR model\n",
    "svr.fit(X_scene_train, y_scene_train)\n",
    "\n",
    "# Make predictions on the test set\n",
    "y_scene_pred = svr.predict(X_scene_test)\n",
    "\n",
    "# Evaluate the model\n",
    "mse = mean_squared_error(y_scene_test, y_scene_pred)\n",
    "r2 = r2_score(y_scene_test, y_scene_pred)\n",
    "mae = mean_absolute_error(y_scene_test, y_scene_pred)\n",
    "mape, calc_zero = mape_calc(y_scene_test, y_scene_pred)\n",
    "print(\"Mean Squared Error:\", mse)\n",
    "print(\"Mean Absolute Error:\", mae)\n",
    "print(\"R squared:\", r2)\n",
    "print(\"MAPE:\", mape, \"with skip data:\", calc_zero)"
   ]
  },
  {
   "cell_type": "code",
   "execution_count": 15,
   "metadata": {},
   "outputs": [
    {
     "name": "stdout",
     "output_type": "stream",
     "text": [
      "Mean Squared Error: 0.4898601155209992\n",
      "Mean Absolute Error: 0.563961\n",
      "R squared: -0.22465028880249793\n",
      "MAPE: 48.84938050000001 with skip data: 0\n"
     ]
    }
   ],
   "source": [
    "# Create SVR model\n",
    "svr = SVR(kernel='linear', C=1e-5)  # You can specify other kernel functions as well\n",
    "\n",
    "# Train the SVR model\n",
    "svr.fit(X_read_train, y_read_train)\n",
    "\n",
    "# Make predictions on the test set\n",
    "y_read_pred = svr.predict(X_read_test)\n",
    "\n",
    "# Evaluate the model\n",
    "mse = mean_squared_error(y_read_test, y_read_pred)\n",
    "r2 = r2_score(y_read_test, y_read_pred)\n",
    "mae = mean_absolute_error(y_read_test, y_read_pred)\n",
    "mape, calc_zero = mape_calc(y_read_test, y_read_pred)\n",
    "print(\"Mean Squared Error:\", mse)\n",
    "print(\"Mean Absolute Error:\", mae)\n",
    "print(\"R squared:\", r2)\n",
    "print(\"MAPE:\", mape, \"with skip data:\", calc_zero)"
   ]
  },
  {
   "cell_type": "code",
   "execution_count": 16,
   "metadata": {},
   "outputs": [
    {
     "name": "stdout",
     "output_type": "stream",
     "text": [
      "Mean Squared Error: 3.2044202244223827\n",
      "Mean Absolute Error: 1.4291777001906985\n",
      "R squared: -0.292939083449961\n",
      "MAPE: 54.83025240218771 with skip data: 0\n"
     ]
    }
   ],
   "source": [
    "# Create SVR model\n",
    "svr = SVR(kernel='linear', C=1)  # You can specify other kernel functions as well\n",
    "\n",
    "# Train the SVR model\n",
    "svr.fit(X_digit_train, y_digit_train)\n",
    "\n",
    "# Make predictions on the test set\n",
    "y_digit_pred = svr.predict(X_digit_test)\n",
    "\n",
    "# Evaluate the model\n",
    "mse = mean_squared_error(y_digit_test, y_digit_pred)\n",
    "r2 = r2_score(y_digit_test, y_digit_pred)\n",
    "mae = mean_absolute_error(y_digit_test, y_digit_pred)\n",
    "mape, calc_zero = mape_calc(y_digit_test, y_digit_pred)\n",
    "print(\"Mean Squared Error:\", mse)\n",
    "print(\"Mean Absolute Error:\", mae)\n",
    "print(\"R squared:\", r2)\n",
    "print(\"MAPE:\", mape, \"with skip data:\", calc_zero)"
   ]
  },
  {
   "cell_type": "markdown",
   "metadata": {},
   "source": [
    "### Decision Tree"
   ]
  },
  {
   "cell_type": "code",
   "execution_count": 17,
   "metadata": {},
   "outputs": [
    {
     "name": "stdout",
     "output_type": "stream",
     "text": [
      "Mean Squared Error: 17.903429721160865\n",
      "Mean Absolute Error: 3.1552482811306337\n",
      "R squared: -0.28953799599245644\n",
      "MAPE: 51.03601371270751 with skip data: 0\n"
     ]
    }
   ],
   "source": [
    "# Create a decision tree regressor\n",
    "regressor = DecisionTreeRegressor()\n",
    "\n",
    "# Train the regressor on the training data\n",
    "regressor.fit(X_scene_train, y_scene_train)\n",
    "\n",
    "# Predict the target values for the testing set\n",
    "y_scene_pred = regressor.predict(X_scene_test)\n",
    "\n",
    "# Evaluate the model\n",
    "mse = mean_squared_error(y_scene_test, y_scene_pred)\n",
    "r2 = r2_score(y_scene_test, y_scene_pred)\n",
    "mae = mean_absolute_error(y_scene_test, y_scene_pred)\n",
    "mape, calc_zero = mape_calc(y_scene_test, y_scene_pred)\n",
    "print(\"Mean Squared Error:\", mse)\n",
    "print(\"Mean Absolute Error:\", mae)\n",
    "print(\"R squared:\", r2)\n",
    "print(\"MAPE:\", mape, \"with skip data:\", calc_zero)"
   ]
  },
  {
   "cell_type": "code",
   "execution_count": 18,
   "metadata": {},
   "outputs": [
    {
     "name": "stdout",
     "output_type": "stream",
     "text": [
      "Mean Squared Error: 0.5987006883907346\n",
      "Mean Absolute Error: 0.5726249045072574\n",
      "R squared: -0.4967517209768366\n",
      "MAPE: 50.46398480604363 with skip data: 0\n"
     ]
    }
   ],
   "source": [
    "# Create a decision tree regressor\n",
    "regressor = DecisionTreeRegressor()\n",
    "\n",
    "# Train the regressor on the training data\n",
    "regressor.fit(X_read_train, y_read_train)\n",
    "\n",
    "# Predict the target values for the testing set\n",
    "y_read_pred = regressor.predict(X_read_test)\n",
    "\n",
    "# Evaluate the model\n",
    "mse = mean_squared_error(y_read_test, y_read_pred)\n",
    "r2 = r2_score(y_read_test, y_read_pred)\n",
    "mae = mean_absolute_error(y_read_test, y_read_pred)\n",
    "mape, calc_zero = mape_calc(y_read_test, y_read_pred)\n",
    "print(\"Mean Squared Error:\", mse)\n",
    "print(\"Mean Absolute Error:\", mae)\n",
    "print(\"R squared:\", r2)\n",
    "print(\"MAPE:\", mape, \"with skip data:\", calc_zero)"
   ]
  },
  {
   "cell_type": "code",
   "execution_count": 21,
   "metadata": {},
   "outputs": [
    {
     "name": "stdout",
     "output_type": "stream",
     "text": [
      "Mean Squared Error: 4.359030851254778\n",
      "Mean Absolute Error: 1.7397410236822004\n",
      "R squared: -0.7588084454707791\n",
      "MAPE: 54.688619083997246 with skip data: 0\n"
     ]
    }
   ],
   "source": [
    "# Create a decision tree regressor\n",
    "regressor = DecisionTreeRegressor()\n",
    "\n",
    "# Train the regressor on the training data\n",
    "regressor.fit(X_digit_train, y_digit_train)\n",
    "\n",
    "# Predict the target values for the testing set\n",
    "y_digit_pred = regressor.predict(X_digit_test)\n",
    "\n",
    "# Evaluate the model\n",
    "mse = mean_squared_error(y_digit_test, y_digit_pred)\n",
    "r2 = r2_score(y_digit_test, y_digit_pred)\n",
    "mae = mean_absolute_error(y_digit_test, y_digit_pred)\n",
    "mape, calc_zero = mape_calc(y_digit_test, y_digit_pred)\n",
    "print(\"Mean Squared Error:\", mse)\n",
    "print(\"Mean Absolute Error:\", mae)\n",
    "print(\"R squared:\", r2)\n",
    "print(\"MAPE:\", mape, \"with skip data:\", calc_zero)"
   ]
  },
  {
   "cell_type": "markdown",
   "metadata": {},
   "source": [
    "### Random Forest"
   ]
  },
  {
   "cell_type": "code",
   "execution_count": 20,
   "metadata": {},
   "outputs": [
    {
     "name": "stdout",
     "output_type": "stream",
     "text": [
      "Mean Squared Error: 14.759687957254002\n",
      "Mean Absolute Error: 2.9356115422289677\n",
      "R squared: -0.06310236230185273\n",
      "MAPE: 51.127014864716614 with skip data: 0\n"
     ]
    }
   ],
   "source": [
    "# Create a decision tree regressor\n",
    "regressor = RandomForestRegressor()\n",
    "\n",
    "# Train the regressor on the training data\n",
    "regressor.fit(X_scene_train, y_scene_train)\n",
    "\n",
    "# Predict the target values for the testing set\n",
    "y_scene_pred = regressor.predict(X_scene_test)\n",
    "\n",
    "# Evaluate the model\n",
    "mse = mean_squared_error(y_scene_test, y_scene_pred)\n",
    "r2 = r2_score(y_scene_test, y_scene_pred)\n",
    "mae = mean_absolute_error(y_scene_test, y_scene_pred)\n",
    "mape, calc_zero = mape_calc(y_scene_test, y_scene_pred)\n",
    "print(\"Mean Squared Error:\", mse)\n",
    "print(\"Mean Absolute Error:\", mae)\n",
    "print(\"R squared:\", r2)\n",
    "print(\"MAPE:\", mape, \"with skip data:\", calc_zero)"
   ]
  },
  {
   "cell_type": "code",
   "execution_count": 44,
   "metadata": {},
   "outputs": [
    {
     "name": "stdout",
     "output_type": "stream",
     "text": [
      "Mean Squared Error: 0.5144606261153553\n",
      "Mean Absolute Error: 0.5792828756384678\n",
      "R squared: -0.28615156528838837\n",
      "MAPE: 50.0002699652735 with skip data: 0\n"
     ]
    }
   ],
   "source": [
    "# Create a decision tree regressor\n",
    "regressor = RandomForestRegressor()\n",
    "\n",
    "# Train the regressor on the training data\n",
    "regressor.fit(X_read_train, y_read_train)\n",
    "\n",
    "# Predict the target values for the testing set\n",
    "y_read_pred = regressor.predict(X_read_test)\n",
    "\n",
    "# Evaluate the model\n",
    "mse = mean_squared_error(y_read_test, y_read_pred)\n",
    "r2 = r2_score(y_read_test, y_read_pred)\n",
    "mae = mean_absolute_error(y_read_test, y_read_pred)\n",
    "mape, calc_zero = mape_calc(y_read_test, y_read_pred)\n",
    "print(\"Mean Squared Error:\", mse)\n",
    "print(\"Mean Absolute Error:\", mae)\n",
    "print(\"R squared:\", r2)\n",
    "print(\"MAPE:\", mape, \"with skip data:\", calc_zero)"
   ]
  },
  {
   "cell_type": "code",
   "execution_count": 23,
   "metadata": {},
   "outputs": [
    {
     "name": "stdout",
     "output_type": "stream",
     "text": [
      "Mean Squared Error: 3.6520649191079815\n",
      "Mean Absolute Error: 0.5721815686343615\n",
      "R squared: -0.47355750448191647\n",
      "MAPE: 53.98433902859105 with skip data: 0\n"
     ]
    }
   ],
   "source": [
    "# Create a decision tree regressor\n",
    "regressor = RandomForestRegressor()\n",
    "\n",
    "# Train the regressor on the training data\n",
    "regressor.fit(X_digit_train, y_digit_train)\n",
    "\n",
    "# Predict the target values for the testing set\n",
    "y_digit_pred = regressor.predict(X_digit_test)\n",
    "\n",
    "# Evaluate the model\n",
    "mse = mean_squared_error(y_digit_test, y_digit_pred)\n",
    "r2 = r2_score(y_digit_test, y_digit_pred)\n",
    "mape, calc_zero = mape_calc(y_digit_test, y_digit_pred)\n",
    "print(\"Mean Squared Error:\", mse)\n",
    "print(\"Mean Absolute Error:\", mae)\n",
    "print(\"R squared:\", r2)\n",
    "print(\"MAPE:\", mape, \"with skip data:\", calc_zero)"
   ]
  },
  {
   "cell_type": "markdown",
   "metadata": {},
   "source": [
    "### Artificial Neural Network"
   ]
  },
  {
   "cell_type": "code",
   "execution_count": 31,
   "metadata": {},
   "outputs": [
    {
     "name": "stdout",
     "output_type": "stream",
     "text": [
      "2/2 [==============================] - 0s 3ms/step - loss: 13.7177 - mae: 2.8110\n",
      "2/2 [==============================] - 0s 2ms/step\n",
      "Mean Squared Error: 13.717702865600586\n",
      "Mean Absolute Error: 2.811037063598633\n",
      "R squared: 0.011949208087265406\n",
      "MAPE: 52.68199015760552 with skip data: 0\n"
     ]
    }
   ],
   "source": [
    "regressor = tf.keras.models.Sequential([\n",
    "    tf.keras.layers.Dense(100, activation=\"relu\"),\n",
    "    tf.keras.layers.Dense(100, activation=\"relu\"),\n",
    "    tf.keras.layers.Dense(100, activation=\"relu\"),\n",
    "    tf.keras.layers.Dense(1, activation=\"relu\")    \n",
    "])\n",
    "\n",
    "regressor.compile(optimizer=\"adam\",\n",
    "                  loss=\"mse\",\n",
    "                  metrics=[\"mae\"])\n",
    "\n",
    "early_stopping = EarlyStopping(monitor='val_loss', patience=100, restore_best_weights=True)\n",
    "\n",
    "regressor.fit(X_scene_train, y_scene_train,\n",
    "              validation_data=(X_scene_test, y_scene_test),\n",
    "              epochs=1000, verbose=0,\n",
    "              callbacks=[early_stopping])\n",
    "\n",
    "mse, mae = regressor.evaluate(X_scene_test, y_scene_test)\n",
    "y_scene_pred = regressor.predict(X_scene_test)\n",
    "r2 = r2_score(y_scene_test, y_scene_pred)\n",
    "mape, calc_zero = mape_calc(y_scene_test, np.squeeze(y_scene_pred))\n",
    "print(\"Mean Squared Error:\", mse)\n",
    "print(\"Mean Absolute Error:\", mae)\n",
    "print(\"R squared:\", r2)\n",
    "print(\"MAPE:\", mape, \"with skip data:\", calc_zero)"
   ]
  },
  {
   "cell_type": "code",
   "execution_count": 34,
   "metadata": {},
   "outputs": [
    {
     "name": "stdout",
     "output_type": "stream",
     "text": [
      "2/2 [==============================] - 0s 3ms/step - loss: 0.4024 - mae: 0.5066\n",
      "2/2 [==============================] - 0s 2ms/step\n",
      "Mean Squared Error: 0.4024452865123749\n",
      "Mean Absolute Error: 0.5066123008728027\n",
      "R squared: -0.006113310536142169\n",
      "MAPE: 50.420398098230365 with skip data: 0\n"
     ]
    }
   ],
   "source": [
    "regressor = tf.keras.models.Sequential([\n",
    "    tf.keras.layers.Dense(100, activation=\"relu\"),\n",
    "    tf.keras.layers.Dense(100, activation=\"relu\"),\n",
    "    # tf.keras.layers.Dense(100, activation=\"relu\"),\n",
    "    tf.keras.layers.Dense(1, activation=\"relu\")    \n",
    "])\n",
    "\n",
    "regressor.compile(optimizer=\"adam\",\n",
    "                  loss=\"mse\",\n",
    "                  metrics=[\"mae\"])\n",
    "\n",
    "early_stopping = EarlyStopping(monitor='val_loss', patience=100, restore_best_weights=True)\n",
    "\n",
    "regressor.fit(X_read_train, y_read_train,\n",
    "              validation_data=(X_read_test, y_read_test),\n",
    "              epochs=1000, verbose=0,\n",
    "              callbacks=[early_stopping])\n",
    "\n",
    "mse, mae = regressor.evaluate(X_read_test, y_read_test)\n",
    "y_read_pred = regressor.predict(X_read_test)\n",
    "r2 = r2_score(y_read_test, y_read_pred)\n",
    "mape, calc_zero = mape_calc(y_read_test, np.squeeze(y_read_pred))\n",
    "print(\"Mean Squared Error:\", mse)\n",
    "print(\"Mean Absolute Error:\", mae)\n",
    "print(\"R squared:\", r2)\n",
    "print(\"MAPE:\", mape, \"with skip data:\", calc_zero)"
   ]
  },
  {
   "cell_type": "code",
   "execution_count": 41,
   "metadata": {},
   "outputs": [
    {
     "name": "stdout",
     "output_type": "stream",
     "text": [
      "2/2 [==============================] - 0s 3ms/step - loss: 2.9790 - mae: 1.4144\n",
      "2/2 [==============================] - 0s 2ms/step\n",
      "Mean Squared Error: 2.979013681411743\n",
      "Mean Absolute Error: 1.414380669593811\n",
      "R squared: -0.20199069042150564\n",
      "MAPE: 53.876656774112156 with skip data: 0\n"
     ]
    }
   ],
   "source": [
    "regressor = tf.keras.models.Sequential([\n",
    "    tf.keras.layers.Dense(100, activation=\"relu\"),\n",
    "    tf.keras.layers.Dense(100, activation=\"relu\"),\n",
    "    tf.keras.layers.Dense(100, activation=\"relu\"),\n",
    "    tf.keras.layers.Dense(1, activation=\"relu\")    \n",
    "])\n",
    "\n",
    "regressor.compile(optimizer=\"sgd\",\n",
    "                  loss=\"mse\",\n",
    "                  metrics=[\"mae\"])\n",
    "\n",
    "early_stopping = EarlyStopping(monitor='val_loss', patience=100, restore_best_weights=True)\n",
    "\n",
    "regressor.fit(X_digit_train, y_digit_train,\n",
    "              validation_data=(X_digit_test, y_digit_test),\n",
    "              epochs=1000, verbose=0,\n",
    "              callbacks=[early_stopping])\n",
    "\n",
    "mse, mae = regressor.evaluate(X_digit_test, y_digit_test)\n",
    "y_digit_pred = regressor.predict(X_digit_test)\n",
    "r2 = r2_score(y_digit_test, y_digit_pred)\n",
    "mape, calc_zero = mape_calc(y_digit_test, np.squeeze(y_digit_pred))\n",
    "print(\"Mean Squared Error:\", mse)\n",
    "print(\"Mean Absolute Error:\", mae)\n",
    "print(\"R squared:\", r2)\n",
    "print(\"MAPE:\", mape, \"with skip data:\", calc_zero)"
   ]
  },
  {
   "cell_type": "markdown",
   "metadata": {},
   "source": [
    "### XGBoost"
   ]
  },
  {
   "cell_type": "code",
   "execution_count": 42,
   "metadata": {},
   "outputs": [
    {
     "name": "stdout",
     "output_type": "stream",
     "text": [
      "Mean Squared Error: 13.717712945775524\n",
      "Mean Absolute Error: 3.039947174426148\n",
      "R squared: 0.01194841786168388\n",
      "MAPE: 52.21713152302676 with skip data: 0\n"
     ]
    }
   ],
   "source": [
    "# Create an AdaBoostRegressor\n",
    "regressor = AdaBoostRegressor(n_estimators=100, random_state=42)\n",
    "\n",
    "# Train the regressor on the training data\n",
    "regressor.fit(X_scene_train, y_scene_train)\n",
    "\n",
    "# Predict the target values for the testing set\n",
    "y_scene_pred = regressor.predict(X_scene_test)\n",
    "\n",
    "# Evaluate the model\n",
    "mse = mean_squared_error(y_scene_test, y_scene_pred)\n",
    "r2 = r2_score(y_scene_test, y_scene_pred)\n",
    "mae = mean_absolute_error(y_scene_test, y_scene_pred)\n",
    "mape, calc_zero = mape_calc(y_scene_test, y_scene_pred)\n",
    "print(\"Mean Squared Error:\", mse)\n",
    "print(\"Mean Absolute Error:\", mae)\n",
    "print(\"R squared:\", r2)\n",
    "print(\"MAPE:\", mape, \"with skip data:\", calc_zero)\n"
   ]
  },
  {
   "cell_type": "code",
   "execution_count": 45,
   "metadata": {},
   "outputs": [
    {
     "name": "stdout",
     "output_type": "stream",
     "text": [
      "Mean Squared Error: 0.3935534199019265\n",
      "Mean Absolute Error: 0.5532461343498268\n",
      "R squared: 0.016116450245183822\n",
      "MAPE: 50.46032133569779 with skip data: 0\n"
     ]
    }
   ],
   "source": [
    "# Create an AdaBoostRegressor\n",
    "regressor = AdaBoostRegressor(n_estimators=100, random_state=42)\n",
    "\n",
    "# Train the regressor on the training data\n",
    "regressor.fit(X_read_train, y_read_train)\n",
    "\n",
    "# Predict the target values for the testing set\n",
    "y_read_pred = regressor.predict(X_read_test)\n",
    "\n",
    "# Evaluate the model\n",
    "mse = mean_squared_error(y_read_test, y_read_pred)\n",
    "r2 = r2_score(y_read_test, y_read_pred)\n",
    "mae = mean_absolute_error(y_read_test, y_read_pred)\n",
    "mape, calc_zero = mape_calc(y_read_test, y_read_pred)\n",
    "print(\"Mean Squared Error:\", mse)\n",
    "print(\"Mean Absolute Error:\", mae)\n",
    "print(\"R squared:\", r2)\n",
    "print(\"MAPE:\", mape, \"with skip data:\", calc_zero)"
   ]
  },
  {
   "cell_type": "code",
   "execution_count": 49,
   "metadata": {},
   "outputs": [
    {
     "name": "stdout",
     "output_type": "stream",
     "text": [
      "Mean Squared Error: 2.8570379449235697\n",
      "Mean Absolute Error: 1.357624297729561\n",
      "R squared: -0.1527751553113177\n",
      "MAPE: 54.511101890312396 with skip data: 0\n"
     ]
    }
   ],
   "source": [
    "# Create an AdaBoostRegressor\n",
    "regressor = AdaBoostRegressor(n_estimators=100, random_state=42)\n",
    "\n",
    "# Train the regressor on the training data\n",
    "regressor.fit(X_digit_train, y_digit_train)\n",
    "\n",
    "# Predict the target values for the testing set\n",
    "y_digit_pred = regressor.predict(X_digit_test)\n",
    "\n",
    "# Evaluate the model\n",
    "mse = mean_squared_error(y_digit_test, y_digit_pred)\n",
    "r2 = r2_score(y_digit_test, y_digit_pred)\n",
    "mae = mean_absolute_error(y_digit_test, y_digit_pred)\n",
    "mape, calc_zero = mape_calc(y_digit_test, y_digit_pred)\n",
    "print(\"Mean Squared Error:\", mse)\n",
    "print(\"Mean Absolute Error:\", mae)\n",
    "print(\"R squared:\", r2)\n",
    "print(\"MAPE:\", mape, \"with skip data:\", calc_zero)"
   ]
  }
 ],
 "metadata": {
  "kernelspec": {
   "display_name": "sleep-and-memory",
   "language": "python",
   "name": "python3"
  },
  "language_info": {
   "codemirror_mode": {
    "name": "ipython",
    "version": 3
   },
   "file_extension": ".py",
   "mimetype": "text/x-python",
   "name": "python",
   "nbconvert_exporter": "python",
   "pygments_lexer": "ipython3",
   "version": "3.10.12"
  }
 },
 "nbformat": 4,
 "nbformat_minor": 2
}
