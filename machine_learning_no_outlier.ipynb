{
 "cells": [
  {
   "cell_type": "markdown",
   "metadata": {},
   "source": [
    "### Initialization"
   ]
  },
  {
   "cell_type": "code",
   "execution_count": 16,
   "metadata": {},
   "outputs": [],
   "source": [
    "import numpy as np\n",
    "import pandas as pd\n",
    "import matplotlib.pyplot as plt\n",
    "from scipy.stats import chi2\n",
    "\n",
    "from sklearn.ensemble import AdaBoostRegressor, \\\n",
    "    GradientBoostingRegressor, RandomForestRegressor\n",
    "from sklearn.svm import SVR\n",
    "from sklearn.tree import DecisionTreeRegressor\n",
    "from sklearn.model_selection import train_test_split\n",
    "from sklearn.metrics import mean_squared_error, mean_absolute_error, \\\n",
    "    r2_score\n",
    "\n",
    "\n",
    "import tensorflow as tf"
   ]
  },
  {
   "cell_type": "code",
   "execution_count": 17,
   "metadata": {},
   "outputs": [],
   "source": [
    "dataset = pd.read_csv(\"dataset/psqi_memory_update.csv\")"
   ]
  },
  {
   "cell_type": "markdown",
   "metadata": {},
   "source": [
    "Removing outlier"
   ]
  },
  {
   "cell_type": "code",
   "execution_count": 102,
   "metadata": {},
   "outputs": [],
   "source": [
    "dataset = dataset[dataset[\"Scenery_score\"] != 0]\n",
    "dataset = dataset[dataset[\"Reading_score\"] != 0]\n",
    "dataset = dataset[dataset[\"Digit_score\"] != 0]"
   ]
  },
  {
   "cell_type": "code",
   "execution_count": 103,
   "metadata": {},
   "outputs": [
    {
     "name": "stdout",
     "output_type": "stream",
     "text": [
      "237\n"
     ]
    }
   ],
   "source": [
    "# Function to remove outliers using Mahalanobis distance\n",
    "def remove_outliers_bivariate(df, columns, threshold=3.0):\n",
    "    # Calculate mean and covariance matrix\n",
    "    mean = df[columns].mean()\n",
    "    cov_matrix = df[columns].cov()\n",
    "    \n",
    "    # Calculate inverse covariance matrix\n",
    "    inv_cov_matrix = np.linalg.inv(cov_matrix)\n",
    "    \n",
    "    # Calculate Mahalanobis distance for each data point\n",
    "    delta = df[columns] - mean\n",
    "    mahalanobis_sq = np.sum(np.dot(delta, inv_cov_matrix) * delta, axis=1)\n",
    "    \n",
    "    # Define the threshold for Mahalanobis distance\n",
    "    chi2_threshold = chi2.ppf(0.95, df=len(columns))\n",
    "    \n",
    "    # Keep only the data points with Mahalanobis distance below the threshold\n",
    "    df_filtered = df[mahalanobis_sq <= chi2_threshold]\n",
    "    \n",
    "    return df_filtered\n",
    "\n",
    "# Specify columns for outlier removal: Using columns with lowest VIF\n",
    "columns_to_check = ['Consumption_of_Sleeping_Pills','Scenery_score']\n",
    "\n",
    "# Remove outliers\n",
    "dataset_bi = remove_outliers_bivariate(dataset, columns_to_check)\n",
    "print(len(dataset_bi))"
   ]
  },
  {
   "cell_type": "code",
   "execution_count": 104,
   "metadata": {},
   "outputs": [
    {
     "name": "stdout",
     "output_type": "stream",
     "text": [
      "226\n"
     ]
    }
   ],
   "source": [
    "# Function to remove outliers using Mahalanobis distance\n",
    "def remove_outliers_multivariate(df, threshold=3.0):\n",
    "    # Calculate mean and covariance matrix\n",
    "    mean = df.mean()\n",
    "    cov_matrix = df.cov()\n",
    "    \n",
    "    # Calculate inverse covariance matrix\n",
    "    inv_cov_matrix = np.linalg.inv(cov_matrix)\n",
    "    \n",
    "    # Calculate Mahalanobis distance for each data point\n",
    "    delta = df - mean\n",
    "    mahalanobis_sq = np.sum(np.dot(delta, inv_cov_matrix) * delta, axis=1)\n",
    "    \n",
    "    # Define the threshold for Mahalanobis distance\n",
    "    chi2_threshold = chi2.ppf(0.95, df=len(df.columns))\n",
    "    \n",
    "    # Keep only the data points with Mahalanobis distance below the threshold\n",
    "    df_filtered = df[mahalanobis_sq <= chi2_threshold]\n",
    "    \n",
    "    return df_filtered\n",
    "\n",
    "# Remove outliers\n",
    "dataset_multi_out = remove_outliers_multivariate(dataset)\n",
    "print(len(dataset_multi_out))"
   ]
  },
  {
   "cell_type": "code",
   "execution_count": 105,
   "metadata": {},
   "outputs": [],
   "source": [
    "dataset = dataset_multi_out\n",
    "X = dataset.iloc[:, 1:7].values\n",
    "X = np.delete(X, 3, axis=1)\n",
    "y_scene = dataset.iloc[:, 7].values\n",
    "y_read = dataset.iloc[:, 8].values\n",
    "y_digit = dataset.iloc[:, 9].values"
   ]
  },
  {
   "cell_type": "code",
   "execution_count": 106,
   "metadata": {},
   "outputs": [],
   "source": [
    "X_scene_train, X_scene_test, y_scene_train, y_scene_test = train_test_split(X, y_scene, test_size=0.2, random_state=42)\n",
    "X_read_train, X_read_test, y_read_train, y_read_test = train_test_split(X, y_read, test_size=0.2, random_state=42)\n",
    "X_digit_train, X_digit_test, y_digit_train, y_digit_test = train_test_split(X, y_digit, test_size=0.2, random_state=42)"
   ]
  },
  {
   "cell_type": "markdown",
   "metadata": {},
   "source": [
    "### Define Function"
   ]
  },
  {
   "cell_type": "code",
   "execution_count": 107,
   "metadata": {},
   "outputs": [],
   "source": [
    "def mape_calc(y_true, y_pred):\n",
    "    data_len = len(y_true)\n",
    "    mape = 0\n",
    "    calc_zero = 0\n",
    "    for i in range(data_len):\n",
    "        if y_true[i] == 0:\n",
    "            calc_zero += 1\n",
    "            continue\n",
    "        mape += np.mean(np.abs((y_true[i], y_pred[i]) / y_true[i]))\n",
    "    return mape, calc_zero"
   ]
  },
  {
   "cell_type": "markdown",
   "metadata": {},
   "source": [
    "### SVR"
   ]
  },
  {
   "cell_type": "code",
   "execution_count": 119,
   "metadata": {},
   "outputs": [
    {
     "name": "stdout",
     "output_type": "stream",
     "text": [
      "Mean Squared Error: 12.05189575745114\n",
      "R squared: 0.07789226848544217\n",
      "MAPE: 47.787170016705716 with skip data: 0\n"
     ]
    }
   ],
   "source": [
    "# Create SVR model\n",
    "svr = SVR(kernel='rbf', C=10)  # You can specify other kernel functions as well\n",
    "\n",
    "# Train the SVR model\n",
    "svr.fit(X_scene_train, y_scene_train)\n",
    "\n",
    "# Make predictions on the test set\n",
    "y_scene_pred = svr.predict(X_scene_test)\n",
    "\n",
    "# Evaluate the model\n",
    "mse = mean_squared_error(y_scene_test, y_scene_pred)\n",
    "r2 = r2_score(y_scene_test, y_scene_pred)\n",
    "mape, calc_zero = mape_calc(y_scene_test, y_scene_pred)\n",
    "print(\"Mean Squared Error:\", mse)\n",
    "print(\"R squared:\", r2)\n",
    "print(\"MAPE:\", mape, \"with skip data:\", calc_zero)"
   ]
  },
  {
   "cell_type": "code",
   "execution_count": 123,
   "metadata": {},
   "outputs": [
    {
     "name": "stdout",
     "output_type": "stream",
     "text": [
      "Mean Squared Error: 0.3227091592347831\n",
      "R squared: -0.11395200806003447\n",
      "MAPE: 45.383318499999994 with skip data: 0\n"
     ]
    }
   ],
   "source": [
    "# Create SVR model\n",
    "svr = SVR(kernel='linear', C=1e-5)  # You can specify other kernel functions as well\n",
    "\n",
    "# Train the SVR model\n",
    "svr.fit(X_read_train, y_read_train)\n",
    "\n",
    "# Make predictions on the test set\n",
    "y_read_pred = svr.predict(X_read_test)\n",
    "\n",
    "# Evaluate the model\n",
    "mse = mean_squared_error(y_read_test, y_read_pred)\n",
    "r2 = r2_score(y_read_test, y_read_pred)\n",
    "mape, calc_zero = mape_calc(y_read_test, y_read_pred)\n",
    "print(\"Mean Squared Error:\", mse)\n",
    "print(\"R squared:\", r2)\n",
    "print(\"MAPE:\", mape, \"with skip data:\", calc_zero)"
   ]
  },
  {
   "cell_type": "code",
   "execution_count": 124,
   "metadata": {},
   "outputs": [
    {
     "name": "stdout",
     "output_type": "stream",
     "text": [
      "Mean Squared Error: 3.1412964960156624\n",
      "R squared: -0.1356540894531253\n",
      "MAPE: 52.13546274363049 with skip data: 0\n"
     ]
    }
   ],
   "source": [
    "# Create SVR model\n",
    "svr = SVR(kernel='linear', C=1)  # You can specify other kernel functions as well\n",
    "\n",
    "# Train the SVR model\n",
    "svr.fit(X_digit_train, y_digit_train)\n",
    "\n",
    "# Make predictions on the test set\n",
    "y_digit_pred = svr.predict(X_digit_test)\n",
    "\n",
    "# Evaluate the model\n",
    "mse = mean_squared_error(y_digit_test, y_digit_pred)\n",
    "r2 = r2_score(y_digit_test, y_digit_pred)\n",
    "mape, calc_zero = mape_calc(y_digit_test, y_digit_pred)\n",
    "print(\"Mean Squared Error:\", mse)\n",
    "print(\"R squared:\", r2)\n",
    "print(\"MAPE:\", mape, \"with skip data:\", calc_zero)"
   ]
  },
  {
   "cell_type": "markdown",
   "metadata": {},
   "source": [
    "### Decision Tree"
   ]
  },
  {
   "cell_type": "code",
   "execution_count": 125,
   "metadata": {},
   "outputs": [
    {
     "name": "stdout",
     "output_type": "stream",
     "text": [
      "Mean Squared Error: 14.409311463835074\n",
      "R squared: -0.10247696910164206\n",
      "MAPE: 47.15369714994329 with skip data: 0\n"
     ]
    }
   ],
   "source": [
    "# Create a decision tree regressor\n",
    "regressor = DecisionTreeRegressor()\n",
    "\n",
    "# Train the regressor on the training data\n",
    "regressor.fit(X_scene_train, y_scene_train)\n",
    "\n",
    "# Predict the target values for the testing set\n",
    "y_scene_pred = regressor.predict(X_scene_test)\n",
    "\n",
    "# Evaluate the model\n",
    "mse = mean_squared_error(y_scene_test, y_scene_pred)\n",
    "r2 = r2_score(y_scene_test, y_scene_pred)\n",
    "mape, calc_zero = mape_calc(y_scene_test, y_scene_pred)\n",
    "print(\"Mean Squared Error:\", mse)\n",
    "print(\"R squared:\", r2)\n",
    "print(\"MAPE:\", mape, \"with skip data:\", calc_zero)"
   ]
  },
  {
   "cell_type": "code",
   "execution_count": 126,
   "metadata": {},
   "outputs": [
    {
     "name": "stdout",
     "output_type": "stream",
     "text": [
      "Mean Squared Error: 0.4014549347357119\n",
      "R squared: -0.3857726621545945\n",
      "MAPE: 46.82290293040294 with skip data: 0\n"
     ]
    }
   ],
   "source": [
    "# Create a decision tree regressor\n",
    "regressor = DecisionTreeRegressor()\n",
    "\n",
    "# Train the regressor on the training data\n",
    "regressor.fit(X_read_train, y_read_train)\n",
    "\n",
    "# Predict the target values for the testing set\n",
    "y_read_pred = regressor.predict(X_read_test)\n",
    "\n",
    "# Evaluate the model\n",
    "mse = mean_squared_error(y_read_test, y_read_pred)\n",
    "r2 = r2_score(y_read_test, y_read_pred)\n",
    "mape, calc_zero = mape_calc(y_read_test, y_read_pred)\n",
    "print(\"Mean Squared Error:\", mse)\n",
    "print(\"R squared:\", r2)\n",
    "print(\"MAPE:\", mape, \"with skip data:\", calc_zero)"
   ]
  },
  {
   "cell_type": "code",
   "execution_count": 127,
   "metadata": {},
   "outputs": [
    {
     "name": "stdout",
     "output_type": "stream",
     "text": [
      "Mean Squared Error: 4.139726316695579\n",
      "R squared: -0.4966104367209714\n",
      "MAPE: 51.20188855456711 with skip data: 0\n"
     ]
    }
   ],
   "source": [
    "# Create a decision tree regressor\n",
    "regressor = DecisionTreeRegressor()\n",
    "\n",
    "# Train the regressor on the training data\n",
    "regressor.fit(X_digit_train, y_digit_train)\n",
    "\n",
    "# Predict the target values for the testing set\n",
    "y_digit_pred = regressor.predict(X_digit_test)\n",
    "\n",
    "# Evaluate the model\n",
    "mse = mean_squared_error(y_digit_test, y_digit_pred)\n",
    "r2 = r2_score(y_digit_test, y_digit_pred)\n",
    "mape, calc_zero = mape_calc(y_digit_test, y_digit_pred)\n",
    "print(\"Mean Squared Error:\", mse)\n",
    "print(\"R squared:\", r2)\n",
    "print(\"MAPE:\", mape, \"with skip data:\", calc_zero)"
   ]
  },
  {
   "cell_type": "markdown",
   "metadata": {},
   "source": []
  },
  {
   "cell_type": "code",
   "execution_count": null,
   "metadata": {},
   "outputs": [],
   "source": []
  }
 ],
 "metadata": {
  "kernelspec": {
   "display_name": "sleep-and-memory",
   "language": "python",
   "name": "python3"
  },
  "language_info": {
   "codemirror_mode": {
    "name": "ipython",
    "version": 3
   },
   "file_extension": ".py",
   "mimetype": "text/x-python",
   "name": "python",
   "nbconvert_exporter": "python",
   "pygments_lexer": "ipython3",
   "version": "3.10.12"
  }
 },
 "nbformat": 4,
 "nbformat_minor": 2
}
