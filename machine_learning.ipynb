{
 "cells": [
  {
   "cell_type": "markdown",
   "metadata": {},
   "source": [
    "### Initialization"
   ]
  },
  {
   "cell_type": "code",
   "execution_count": 1,
   "metadata": {},
   "outputs": [
    {
     "name": "stderr",
     "output_type": "stream",
     "text": [
      "2024-04-24 01:01:41.217048: I tensorflow/core/util/port.cc:113] oneDNN custom operations are on. You may see slightly different numerical results due to floating-point round-off errors from different computation orders. To turn them off, set the environment variable `TF_ENABLE_ONEDNN_OPTS=0`.\n",
      "2024-04-24 01:01:41.231181: I external/local_tsl/tsl/cuda/cudart_stub.cc:31] Could not find cuda drivers on your machine, GPU will not be used.\n",
      "2024-04-24 01:01:41.316303: E external/local_xla/xla/stream_executor/cuda/cuda_dnn.cc:9261] Unable to register cuDNN factory: Attempting to register factory for plugin cuDNN when one has already been registered\n",
      "2024-04-24 01:01:41.316388: E external/local_xla/xla/stream_executor/cuda/cuda_fft.cc:607] Unable to register cuFFT factory: Attempting to register factory for plugin cuFFT when one has already been registered\n",
      "2024-04-24 01:01:41.326216: E external/local_xla/xla/stream_executor/cuda/cuda_blas.cc:1515] Unable to register cuBLAS factory: Attempting to register factory for plugin cuBLAS when one has already been registered\n",
      "2024-04-24 01:01:41.349829: I external/local_tsl/tsl/cuda/cudart_stub.cc:31] Could not find cuda drivers on your machine, GPU will not be used.\n",
      "2024-04-24 01:01:41.350746: I tensorflow/core/platform/cpu_feature_guard.cc:182] This TensorFlow binary is optimized to use available CPU instructions in performance-critical operations.\n",
      "To enable the following instructions: AVX2 AVX_VNNI FMA, in other operations, rebuild TensorFlow with the appropriate compiler flags.\n",
      "2024-04-24 01:01:42.084177: W tensorflow/compiler/tf2tensorrt/utils/py_utils.cc:38] TF-TRT Warning: Could not find TensorRT\n"
     ]
    }
   ],
   "source": [
    "import numpy as np\n",
    "import pandas as pd\n",
    "import matplotlib.pyplot as plt\n",
    "\n",
    "from sklearn.ensemble import AdaBoostRegressor, \\\n",
    "    GradientBoostingRegressor, RandomForestRegressor\n",
    "from sklearn.svm import SVR\n",
    "from sklearn.tree import DecisionTreeRegressor\n",
    "from sklearn.model_selection import train_test_split\n",
    "from sklearn.metrics import mean_squared_error, mean_absolute_error, \\\n",
    "    r2_score\n",
    "\n",
    "\n",
    "import tensorflow as tf"
   ]
  },
  {
   "cell_type": "code",
   "execution_count": 9,
   "metadata": {},
   "outputs": [],
   "source": [
    "dataset = pd.read_csv(\"dataset/psqi_memory_update.csv\")\n",
    "X = dataset.iloc[:, 1:7].values\n",
    "X = np.delete(X, 3, axis=1)\n",
    "y_scene = dataset.iloc[:, 7].values\n",
    "y_read = dataset.iloc[:, 8].values\n",
    "y_digit = dataset.iloc[:, 9].values"
   ]
  },
  {
   "cell_type": "code",
   "execution_count": 12,
   "metadata": {},
   "outputs": [],
   "source": [
    "X_scene_train, X_scene_test, y_scene_train, y_scene_test = train_test_split(X, y_scene, test_size=0.2, random_state=42)\n",
    "X_read_train, X_read_test, y_read_train, y_read_test = train_test_split(X, y_read, test_size=0.2, random_state=42)\n"
   ]
  },
  {
   "cell_type": "markdown",
   "metadata": {},
   "source": [
    "### Define Function"
   ]
  },
  {
   "cell_type": "markdown",
   "metadata": {},
   "source": [
    "It hard to use mean absolute percentage error"
   ]
  },
  {
   "cell_type": "markdown",
   "metadata": {},
   "source": [
    "### SVR"
   ]
  },
  {
   "cell_type": "code",
   "execution_count": 13,
   "metadata": {},
   "outputs": [
    {
     "name": "stdout",
     "output_type": "stream",
     "text": [
      "Mean Squared Error: 31.49704947916667\n",
      "R squared: 0.016557547668414774\n"
     ]
    }
   ],
   "source": [
    "# Create SVR model\n",
    "svr = SVR(kernel='linear', C=1e-2)  # You can specify other kernel functions as well\n",
    "\n",
    "# Train the SVR model\n",
    "svr.fit(X_scene_train, y_scene_train)\n",
    "\n",
    "# Make predictions on the test set\n",
    "y_pred = svr.predict(X_scene_test)\n",
    "\n",
    "# Evaluate the model\n",
    "mse = mean_squared_error(y_scene_test, y_pred)\n",
    "r2 = r2_score(y_scene_test, y_pred)\n",
    "print(\"Mean Squared Error:\", mse)\n",
    "print(\"R squared:\", r2)"
   ]
  },
  {
   "cell_type": "code",
   "execution_count": 37,
   "metadata": {},
   "outputs": [
    {
     "name": "stdout",
     "output_type": "stream",
     "text": [
      "Mean Squared Error: 1.320073572444382\n",
      "R squared: 0.05866619903687531\n"
     ]
    }
   ],
   "source": [
    "# Create SVR model\n",
    "svr = SVR(kernel='linear', C=5e3)  # You can specify other kernel functions as well\n",
    "\n",
    "# Train the SVR model\n",
    "svr.fit(X_read_train, y_read_train)\n",
    "\n",
    "# Make predictions on the test set\n",
    "y_pred = svr.predict(X_read_test)\n",
    "\n",
    "# Evaluate the model\n",
    "mse = mean_squared_error(y_read_test, y_pred)\n",
    "r2 = r2_score(y_read_test, y_pred)\n",
    "print(\"Mean Squared Error:\", mse)\n",
    "print(\"R squared:\", r2)"
   ]
  },
  {
   "cell_type": "markdown",
   "metadata": {},
   "source": [
    "### Decision Tree"
   ]
  },
  {
   "cell_type": "code",
   "execution_count": null,
   "metadata": {},
   "outputs": [],
   "source": []
  }
 ],
 "metadata": {
  "kernelspec": {
   "display_name": "sleep-and-memory",
   "language": "python",
   "name": "python3"
  },
  "language_info": {
   "codemirror_mode": {
    "name": "ipython",
    "version": 3
   },
   "file_extension": ".py",
   "mimetype": "text/x-python",
   "name": "python",
   "nbconvert_exporter": "python",
   "pygments_lexer": "ipython3",
   "version": "3.10.12"
  }
 },
 "nbformat": 4,
 "nbformat_minor": 2
}
