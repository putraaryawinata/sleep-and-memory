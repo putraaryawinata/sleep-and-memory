{
  "nbformat": 4,
  "nbformat_minor": 0,
  "metadata": {
    "colab": {
      "name": "Correlation of Sleeping Quality on Short Term Memory.ipynb",
      "provenance": [],
      "collapsed_sections": [],
      "authorship_tag": "ABX9TyOtD4bfHn8+fyBJL6HxWR60",
      "include_colab_link": true
    },
    "kernelspec": {
      "name": "python3",
      "display_name": "Python 3"
    },
    "language_info": {
      "name": "python"
    }
  },
  "cells": [
    {
      "cell_type": "markdown",
      "metadata": {
        "id": "view-in-github",
        "colab_type": "text"
      },
      "source": [
        "<a href=\"https://colab.research.google.com/github/putraaryawinata/Sleep-Quality/blob/master/Correlation_of_Sleeping_Quality_on_Short_Term_Memory.ipynb\" target=\"_parent\"><img src=\"https://colab.research.google.com/assets/colab-badge.svg\" alt=\"Open In Colab\"/></a>"
      ]
    },
    {
      "cell_type": "markdown",
      "source": [
        "# Data Preprocessing"
      ],
      "metadata": {
        "id": "Apu-PiecU_JX"
      }
    },
    {
      "cell_type": "code",
      "execution_count": null,
      "metadata": {
        "id": "wm-tAZSsAZQ8"
      },
      "outputs": [],
      "source": [
        "import numpy as np\n",
        "import pandas as pd\n",
        "import matplotlib.pyplot as plt\n",
        "import scipy.stats\n",
        "import csv\n",
        "from sklearn.preprocessing import StandardScaler"
      ]
    },
    {
      "cell_type": "code",
      "source": [
        "#Backspan a number\n",
        "def backspan(number):\n",
        "  num = number\n",
        "  reversed_num = 0\n",
        "  while num != 0:\n",
        "    digit = num % 10\n",
        "    reversed_num = reversed_num * 10 + digit\n",
        "    num //= 10\n",
        "  return reversed_num\n",
        "\n",
        "#Build the key answer for backspan test\n",
        "def kj(list):\n",
        "  list_kj = []\n",
        "  for i in range(len(list)):\n",
        "    list_kj.append(backspan(list[i]))\n",
        "  return list_kj"
      ],
      "metadata": {
        "id": "egCwvL4MMe_I"
      },
      "execution_count": null,
      "outputs": []
    },
    {
      "cell_type": "code",
      "source": [
        "kj_d1 = kj([579, 618, 3482, 1697, 92168, 53741, 732985, 416532, 8265941, 9237465, 19528643, 37219548, 587319246, 249385617])\n",
        "kj_d2 = kj([258, 179, 7314, 4852, 65943, 86217, 516794, 394861, 9638152, 7841592, 47298516, 12537986, 319528476, 541627983])\n",
        "kj_d3 = kj([348, 126, 5293, 7368, 49852, 24961, 954761, 813624, 6297438, 7486135, 51783642, 35248617, 412536978, 184563279])\n",
        "kj_d4 = kj([672, 398, 4867, 8945, 98142, 57426, 749582, 279685, 1925836, 4329567, 65142739, 21569348, 972435168, 745298163])\n",
        "kj = np.array([kj_d1, kj_d2, kj_d3, kj_d4])\n",
        "kj.shape"
      ],
      "metadata": {
        "colab": {
          "base_uri": "https://localhost:8080/"
        },
        "id": "NCh93r7xPXKK",
        "outputId": "b4e59e55-7a15-4430-ef6b-5d195c36d5ed"
      },
      "execution_count": null,
      "outputs": [
        {
          "output_type": "execute_result",
          "data": {
            "text/plain": [
              "(4, 14)"
            ]
          },
          "metadata": {},
          "execution_count": 3
        }
      ]
    },
    {
      "cell_type": "code",
      "source": [
        "#Input process of the backspan test\n",
        "with open('backspan_test.csv') as csvfile:\n",
        "  reader = csv.reader(csvfile)\n",
        "  next(reader)\n",
        "  nim = []\n",
        "  answer = []\n",
        "  for row in reader:\n",
        "    nim.append(row[1])\n",
        "    num_array = np.array(row[2:])\n",
        "    answer.append(num_array)\n",
        "#answer array\n",
        "answer = np.array(answer)\n",
        "answer = answer.astype(int)\n",
        "#nim array\n",
        "nim = np.array(nim)"
      ],
      "metadata": {
        "id": "xsm8SA_NQ8R2"
      },
      "execution_count": null,
      "outputs": []
    },
    {
      "cell_type": "code",
      "source": [
        "#Giving a pre-score for participants' answer\n",
        "def check_ans(ans, kj_ans):\n",
        "  \"\"\"\n",
        "    ans and kj_ans are numpy array\n",
        "  \"\"\"\n",
        "  array_ans = np.zeros(ans[:, 1:].shape)\n",
        "  for i in range(answer.shape[0]):\n",
        "    for j in range(14):\n",
        "      array_ans[i, j] += int(ans[i, j+1] == kj_ans[ans[i, 0] - 1][j])\n",
        "      \n",
        "  return array_ans"
      ],
      "metadata": {
        "id": "3X1gtC4CS2ha"
      },
      "execution_count": null,
      "outputs": []
    },
    {
      "cell_type": "code",
      "source": [
        "score = check_ans(answer, kj)\n",
        "print(len(score))"
      ],
      "metadata": {
        "colab": {
          "base_uri": "https://localhost:8080/"
        },
        "id": "7JfG4JVGU1a1",
        "outputId": "86194c49-434b-40a8-f9db-fcd03c1aab79"
      },
      "execution_count": null,
      "outputs": [
        {
          "output_type": "stream",
          "name": "stdout",
          "text": [
            "119\n"
          ]
        }
      ]
    },
    {
      "cell_type": "code",
      "source": [
        "new_nim = nim.reshape(1,len(score))\n",
        "backspan_result = np.concatenate((new_nim.T, score), axis=1)\n",
        "print(backspan_result)"
      ],
      "metadata": {
        "colab": {
          "base_uri": "https://localhost:8080/"
        },
        "id": "F49mMwU5bDgF",
        "outputId": "3abd7fcd-5807-4ae4-fce0-40de1a9f5ac1"
      },
      "execution_count": null,
      "outputs": [
        {
          "output_type": "stream",
          "name": "stdout",
          "text": [
            "[['1902511093' '1.0' '1.0' ... '0.0' '0.0' '1.0']\n",
            " ['1902511038' '1.0' '0.0' ... '0.0' '0.0' '0.0']\n",
            " ['1902511030' '0.0' '0.0' ... '0.0' '0.0' '0.0']\n",
            " ...\n",
            " ['1902511073' '0.0' '0.0' ... '0.0' '0.0' '0.0']\n",
            " ['1902511080' '1.0' '1.0' ... '0.0' '0.0' '0.0']\n",
            " ['1902511128' '1.0' '1.0' ... '0.0' '0.0' '0.0']]\n"
          ]
        }
      ]
    },
    {
      "cell_type": "code",
      "source": [
        "np.savetxt(\"trial.csv\", backspan_result, fmt=\"%s\", delimiter=',')"
      ],
      "metadata": {
        "id": "a8f2q17aeMjb"
      },
      "execution_count": null,
      "outputs": []
    },
    {
      "cell_type": "code",
      "source": [
        "def backspan_scores(list_score):\n",
        "  res_score = 0\n",
        "  for i in range(7):\n",
        "    if(list_score[2*i] + list_score[2*i+1] == 0):\n",
        "      return res_score\n",
        "    res_score += 1\n",
        "  return res_score"
      ],
      "metadata": {
        "id": "gvuRtGuug3Ne"
      },
      "execution_count": null,
      "outputs": []
    },
    {
      "cell_type": "code",
      "source": [
        "backspan_scores([1, 0, 1, 0, 1, 1, 1, 1, 1, 1, 0, 0, 1, 1])"
      ],
      "metadata": {
        "colab": {
          "base_uri": "https://localhost:8080/"
        },
        "id": "Rm_ZqolXjycQ",
        "outputId": "26d37856-6338-44a6-8972-d386b5a1d2bd"
      },
      "execution_count": null,
      "outputs": [
        {
          "output_type": "execute_result",
          "data": {
            "text/plain": [
              "5"
            ]
          },
          "metadata": {},
          "execution_count": 15
        }
      ]
    },
    {
      "cell_type": "code",
      "source": [
        "score_mahasiswa = np.zeros(len(score),)\n",
        "for i, mahasiswa in enumerate(backspan_result):\n",
        "  score_mahasiswa[i] += backspan_scores(mahasiswa[1:].astype(float))\n",
        "  \n",
        "#print(score_mahasiswa.reshape(1, 117))\n",
        "#print(new_nim)\n",
        "backspan_result_array = np.concatenate((new_nim.T, score_mahasiswa.reshape(1, len(score)).T), axis=1)\n",
        "np.savetxt(\"backspan_result.csv\", backspan_result_array, fmt=\"%s\", delimiter=',')"
      ],
      "metadata": {
        "id": "4pfnr7p3iN71"
      },
      "execution_count": null,
      "outputs": []
    },
    {
      "cell_type": "code",
      "source": [
        "#Reading CSV file of the result for both psqi and backspan\n",
        "with open('psqi_and_backspan_result.csv') as csvfile:\n",
        "  reader = csv.reader(csvfile)\n",
        "  x = []\n",
        "  y = []\n",
        "  next(reader) #skip read the header\n",
        "  for row in reader:\n",
        "    x.append(row[1])\n",
        "    y.append(int(row[-1])+2)\n",
        "  x = np.array(x).astype(int)\n",
        "  y = np.array(y).astype(int)"
      ],
      "metadata": {
        "id": "SpROMd4Hm53A"
      },
      "execution_count": null,
      "outputs": []
    },
    {
      "cell_type": "markdown",
      "source": [
        "# Data Analysis (PSQI v Backspan)"
      ],
      "metadata": {
        "id": "RR5kweHyUpMC"
      }
    },
    {
      "cell_type": "code",
      "source": [
        "import pandas as pd\n",
        "import numpy as np\n",
        "import matplotlib.pyplot as plt"
      ],
      "metadata": {
        "id": "x2D_EY9SUwrq"
      },
      "execution_count": null,
      "outputs": []
    },
    {
      "cell_type": "code",
      "source": [
        "dataset = pd.read_csv('psqi_and_backspan_result.csv')\n",
        "x = dataset.iloc[:,1].values\n",
        "y = dataset.iloc[:,2].values\n",
        "xy = dataset.iloc[:, 1:].values"
      ],
      "metadata": {
        "id": "CZo_9ve5U4vL"
      },
      "execution_count": null,
      "outputs": []
    },
    {
      "cell_type": "code",
      "source": [
        "from scipy import stats\n",
        "print(\"Kolmogorov-Smirnov data psqi: {}\".format(stats.kstest(x, stats.norm.cdf)))"
      ],
      "metadata": {
        "colab": {
          "base_uri": "https://localhost:8080/"
        },
        "id": "LCcXZByp7mdY",
        "outputId": "c619fbde-27d0-4087-bc94-88cf0a596002"
      },
      "execution_count": null,
      "outputs": [
        {
          "output_type": "stream",
          "name": "stdout",
          "text": [
            "Kolmogorov-Smirnov data psqi: KstestResult(statistic=0.9719834353017033, pvalue=7.19691173716131e-117)\n"
          ]
        }
      ]
    },
    {
      "cell_type": "code",
      "source": [
        "from scipy import stats\n",
        "print(\"Kolmogorov-Smirnov data backspan: {}\".format(stats.kstest(y, stats.norm.cdf)))"
      ],
      "metadata": {
        "colab": {
          "base_uri": "https://localhost:8080/"
        },
        "id": "6QiXW-j99mlk",
        "outputId": "8faec77a-a545-4668-d178-debcf63db3de"
      },
      "execution_count": null,
      "outputs": [
        {
          "output_type": "stream",
          "name": "stdout",
          "text": [
            "Kolmogorov-Smirnov data backspan: KstestResult(statistic=0.8839165347184874, pvalue=1.5414666190226763e-70)\n"
          ]
        }
      ]
    },
    {
      "cell_type": "code",
      "source": [
        "from sklearn.preprocessing import StandardScaler\n",
        "\n",
        "sc = StandardScaler()\n",
        "x_std = sc.fit_transform(x.reshape(len(x),1))\n",
        "y_std = sc.fit_transform(y.reshape(len(y),1))"
      ],
      "metadata": {
        "id": "Zhl8krIrqczm"
      },
      "execution_count": null,
      "outputs": []
    },
    {
      "cell_type": "code",
      "source": [
        "from sklearn.linear_model import LinearRegression\n",
        "regressor = LinearRegression()\n",
        "regressor.fit(x.reshape(len(x), 1), y)"
      ],
      "metadata": {
        "colab": {
          "base_uri": "https://localhost:8080/"
        },
        "id": "U5O6RsdIDxfG",
        "outputId": "83c2f98f-7f37-4a4a-ee37-c20645e112ea"
      },
      "execution_count": null,
      "outputs": [
        {
          "output_type": "execute_result",
          "data": {
            "text/plain": [
              "LinearRegression()"
            ]
          },
          "metadata": {},
          "execution_count": 5
        }
      ]
    },
    {
      "cell_type": "code",
      "source": [
        "plt.scatter(x.reshape(len(x), 1), y.reshape(len(y),1), color='red')\n",
        "plt.plot(x.reshape(len(x),1), regressor.predict(x.reshape(len(x),1)), color = 'blue')\n",
        "plt.title('PSQI x Score Backspan')\n",
        "plt.xlabel('PSQI')\n",
        "plt.ylabel('Score Backspan')\n",
        "plt.show()"
      ],
      "metadata": {
        "colab": {
          "base_uri": "https://localhost:8080/",
          "height": 295
        },
        "id": "_JJ8RUBQ7cBh",
        "outputId": "4cc774a0-491c-4b0b-d423-a3c722954de2"
      },
      "execution_count": null,
      "outputs": [
        {
          "output_type": "display_data",
          "data": {
            "text/plain": [
              "<Figure size 432x288 with 1 Axes>"
            ],
            "image/png": "[encoded data removed]"
          },
          "metadata": {
            "needs_background": "light"
          }
        }
      ]
    },
    {
      "cell_type": "code",
      "source": [
        "plt.scatter(x.reshape(len(x), 1), y.reshape(len(y),1), color='red')\n",
        "plt.plot(x.reshape(len(x),1), regressor.predict(x.reshape(len(x),1)), color = 'blue')\n",
        "plt.title('PSQI x Score Backspan')\n",
        "plt.xlabel('PSQI')\n",
        "plt.ylabel('Score Backspan')\n",
        "plt.show()"
      ],
      "metadata": {
        "id": "U87rZzehrWpS",
        "colab": {
          "base_uri": "https://localhost:8080/",
          "height": 295
        },
        "outputId": "8708fb74-e0ff-454a-ebb9-99db190cf853"
      },
      "execution_count": null,
      "outputs": [
        {
          "output_type": "display_data",
          "data": {
            "text/plain": [
              "<Figure size 432x288 with 1 Axes>"
            ],
            "image/png": "[encoded data removed]"
          },
          "metadata": {
            "needs_background": "light"
          }
        }
      ]
    },
    {
      "cell_type": "code",
      "source": [
        "res = y - regressor.predict(x.reshape(len(x), 1))"
      ],
      "metadata": {
        "id": "sZ_5eiVnZwmB"
      },
      "execution_count": null,
      "outputs": []
    },
    {
      "cell_type": "code",
      "source": [
        "res"
      ],
      "metadata": {
        "colab": {
          "base_uri": "https://localhost:8080/"
        },
        "id": "yJjt6dXxbBEu",
        "outputId": "f8c928be-9373-4351-90c4-825c659a845b"
      },
      "execution_count": null,
      "outputs": [
        {
          "output_type": "execute_result",
          "data": {
            "text/plain": [
              "array([-0.27927543,  1.12994438, -3.27927543, -1.63158038,  1.19226714,\n",
              "       -1.21695266,  1.07302952, -2.16003781,  0.19226714,  1.07302952,\n",
              "       -0.51234276, -0.57466553, -3.27927543, -1.45542791,  0.48765724,\n",
              "       -0.27927543, -1.27927543, -0.39851305, -1.98388533, -0.10312295,\n",
              "        0.30609685,  2.01611467, -2.63158038,  1.42533447,  2.19226714,\n",
              "        2.66380971,  2.48765724, -0.16003781, -1.04080019, -1.51234276,\n",
              "       -0.33619029, -0.68849524,  2.13535229, -2.10312295, -0.68849524,\n",
              "       -0.16003781,  1.83996219, -0.33619029,  0.36841962, -0.68849524,\n",
              "        1.19226714,  3.01611467, -0.33619029,  1.83455428,  1.83996219,\n",
              "       -3.10312295, -0.68849524,  1.89687705, -0.80773286,  3.19226714,\n",
              "       -0.80773286, -2.27927543,  2.13535229,  2.83996219, -0.33619029,\n",
              "       -0.16003781, -1.63158038,  1.19226714,  0.83996219, -0.63158038,\n",
              "        0.36841962,  1.83996219,  1.48224933,  1.01611467, -0.63158038,\n",
              "       -1.16003781,  0.83996219, -0.63158038, -0.10312295, -3.63158038,\n",
              "        1.54457209,  0.66380971, -0.98388533, -0.98388533, -0.63158038])"
            ]
          },
          "metadata": {},
          "execution_count": 35
        }
      ]
    },
    {
      "cell_type": "code",
      "source": [
        "import scipy.stats\n",
        "\n",
        "results = scipy.stats.linregress(x, y)\n",
        "print('Slope: {}'.format(results[0]))\n",
        "print('Intercept: {}'.format(results[1]))\n",
        "print('R_value: {}'.format(results[2]))\n",
        "print('P_value: {}'.format(results[3]))\n",
        "print('Std_err: {}'.format(results[4]))"
      ],
      "metadata": {
        "colab": {
          "base_uri": "https://localhost:8080/"
        },
        "id": "au8S6OmiDNM2",
        "outputId": "2efb092b-8d9f-48b9-997a-36119ce0c7ab"
      },
      "execution_count": null,
      "outputs": [
        {
          "output_type": "stream",
          "name": "stdout",
          "text": [
            "Slope: -0.17615247582345675\n",
            "Intercept: 5.3931051406965755\n",
            "R_value: -0.4427751068188782\n",
            "P_value: 6.954601304349733e-05\n",
            "Std_err: 0.04175021344206948\n"
          ]
        }
      ]
    },
    {
      "cell_type": "code",
      "source": [
        "kstest_psqi = scipy.stats.kstest(x, 'norm')\n",
        "kstest_backspan = scipy.stats.kstest(y, 'norm')\n",
        "kstest_res = scipy.stats.kstest(res, 'norm')\n",
        "print('PSQI: {}'.format(kstest_psqi))\n",
        "print('Backspan Test: {}'.format(kstest_backspan))\n",
        "print('Residual: {}'.format(kstest_res))"
      ],
      "metadata": {
        "colab": {
          "base_uri": "https://localhost:8080/"
        },
        "id": "vsV8uHhOXmya",
        "outputId": "e9cb77fb-57e0-4ae0-f579-0cca023250e9"
      },
      "execution_count": null,
      "outputs": [
        {
          "output_type": "stream",
          "name": "stdout",
          "text": [
            "PSQI: KstestResult(statistic=0.9719834353017033, pvalue=7.19691173716131e-117)\n",
            "Backspan Test: KstestResult(statistic=0.8839165347184874, pvalue=1.5414666190226763e-70)\n",
            "Residual: KstestResult(statistic=0.16521260702884166, pvalue=0.02945369212607824)\n"
          ]
        }
      ]
    },
    {
      "cell_type": "code",
      "source": [
        "from sklearn.cluster import KMeans\n",
        "wcss = []\n",
        "for i in range(1, 11):\n",
        "    kmeans = KMeans(n_clusters = i, init = 'k-means++', random_state = 42)\n",
        "    kmeans.fit(xy)\n",
        "    wcss.append(kmeans.inertia_)\n",
        "plt.plot(range(1, 11), wcss)\n",
        "plt.title('The Elbow Method')\n",
        "plt.xlabel('Number of clusters')\n",
        "plt.ylabel('WCSS')\n",
        "plt.show()"
      ],
      "metadata": {
        "colab": {
          "base_uri": "https://localhost:8080/",
          "height": 295
        },
        "id": "XtNo_lwznbHb",
        "outputId": "84fed5ce-0b83-404a-839e-8a4253737f20"
      },
      "execution_count": null,
      "outputs": [
        {
          "output_type": "display_data",
          "data": {
            "text/plain": [
              "<Figure size 432x288 with 1 Axes>"
            ],
            "image/png": "[encoded data removed]"
          },
          "metadata": {
            "needs_background": "light"
          }
        }
      ]
    },
    {
      "cell_type": "code",
      "source": [
        "from sklearn.metrics import silhouette_score\n",
        "\n",
        "sil = []\n",
        "kmax = 10\n",
        "\n",
        "# dissimilarity would not be defined for a single cluster, thus, minimum number of clusters should be 2\n",
        "for k in range(2, kmax+1):\n",
        "  kmeans = KMeans(n_clusters = k).fit(xy)\n",
        "  labels = kmeans.labels_\n",
        "  sil.append(silhouette_score(xy, labels, metric = 'euclidean'))"
      ],
      "metadata": {
        "id": "PDgSNeX4_YRa"
      },
      "execution_count": null,
      "outputs": []
    },
    {
      "cell_type": "code",
      "source": [
        "plt.plot([2, 3, 4, 5, 6, 7, 8, 9, 10], sil)\n",
        "plt.show()"
      ],
      "metadata": {
        "colab": {
          "base_uri": "https://localhost:8080/",
          "height": 265
        },
        "id": "yrybLjD9_llx",
        "outputId": "e777fdad-68c6-4fae-e52e-9f4f5e0a5911"
      },
      "execution_count": null,
      "outputs": [
        {
          "output_type": "display_data",
          "data": {
            "text/plain": [
              "<Figure size 432x288 with 1 Axes>"
            ],
            "image/png": "[encoded data removed]"
          },
          "metadata": {
            "needs_background": "light"
          }
        }
      ]
    },
    {
      "cell_type": "code",
      "source": [
        "kmeans = KMeans(n_clusters = 2, init = 'k-means++', random_state = 42)\n",
        "y_kmeans = kmeans.fit_predict(xy)"
      ],
      "metadata": {
        "id": "7Cz4utJDAMCx"
      },
      "execution_count": null,
      "outputs": []
    },
    {
      "cell_type": "code",
      "source": [
        "plt.scatter(xy[y_kmeans == 1, 0], xy[y_kmeans == 1, 1], s = 100, c = 'green', label = 'good sleep')\n",
        "plt.scatter(xy[y_kmeans == 0, 0], xy[y_kmeans == 0, 1], s = 100, c = 'red', label = 'bad sleep')\n",
        "# plt.scatter(xy[y_kmeans == 2, 0], xy[y_kmeans == 2, 1], s = 100, c = 'red', label = 'bad sleep')\n",
        "plt.scatter(kmeans.cluster_centers_[:, 0], kmeans.cluster_centers_[:, 1], s = 300, c = 'blue') # , label = 'Centroids')\n",
        "plt.title('Kluster Mahasiswa FK Semester 6 TA 2021/2022')\n",
        "plt.xlabel('PSQI')\n",
        "plt.ylabel('backspan score')\n",
        "plt.legend()\n",
        "plt.show()"
      ],
      "metadata": {
        "colab": {
          "base_uri": "https://localhost:8080/",
          "height": 295
        },
        "id": "4axpurxiAOF5",
        "outputId": "e06083db-1ca0-4300-e1b7-fc80531919bf"
      },
      "execution_count": null,
      "outputs": [
        {
          "output_type": "display_data",
          "data": {
            "text/plain": [
              "<Figure size 432x288 with 1 Axes>"
            ],
            "image/png": "[encoded data removed]"
          },
          "metadata": {
            "needs_background": "light"
          }
        }
      ]
    },
    {
      "cell_type": "code",
      "source": [
        "kmeans = KMeans(n_clusters = 3, init = 'k-means++', random_state = 42)\n",
        "y_kmeans = kmeans.fit_predict(xy)"
      ],
      "metadata": {
        "id": "cLQkf2Ywjpw0"
      },
      "execution_count": null,
      "outputs": []
    },
    {
      "cell_type": "code",
      "source": [
        "plt.scatter(xy[y_kmeans == 1, 0], xy[y_kmeans == 1, 1], s = 100, c = 'green', label = 'good sleep')\n",
        "plt.scatter(xy[y_kmeans == 0, 0], xy[y_kmeans == 0, 1], s = 100, c = 'yellow', label = 'moderate sleep')\n",
        "plt.scatter(xy[y_kmeans == 2, 0], xy[y_kmeans == 2, 1], s = 100, c = 'red', label = 'bad sleep')\n",
        "plt.scatter(kmeans.cluster_centers_[:, 0], kmeans.cluster_centers_[:, 1], s = 300, c = 'blue') # , label = 'Centroids')\n",
        "plt.title('Clusters of students')\n",
        "plt.xlabel('sleeping quality')\n",
        "plt.ylabel('backspan score')\n",
        "plt.legend()\n",
        "plt.show()"
      ],
      "metadata": {
        "colab": {
          "base_uri": "https://localhost:8080/",
          "height": 295
        },
        "id": "mGr1S-hUms9J",
        "outputId": "a0629d37-da1b-4b14-8485-96ba23239edb"
      },
      "execution_count": null,
      "outputs": [
        {
          "output_type": "display_data",
          "data": {
            "text/plain": [
              "<Figure size 432x288 with 1 Axes>"
            ],
            "image/png": "[encoded data removed]"
          },
          "metadata": {
            "needs_background": "light"
          }
        }
      ]
    },
    {
      "cell_type": "code",
      "source": [
        "r, p = scipy.stats.pearsonr(x, y)\n",
        "print(\"value of r: {}\\nvalue of p: {}\".format(r,p))\n",
        "print(np.corrcoef(x, y))\n",
        "print(np.cov(x,y))"
      ],
      "metadata": {
        "colab": {
          "base_uri": "https://localhost:8080/"
        },
        "id": "7CWm9AMT1IcY",
        "outputId": "1fa4cb3b-6397-4684-932f-de152a9227fd"
      },
      "execution_count": null,
      "outputs": [
        {
          "output_type": "stream",
          "name": "stdout",
          "text": [
            "value of r: -0.4427751068188778\n",
            "value of p: 6.954601304349867e-05\n",
            "[[ 1.         -0.44277511]\n",
            " [-0.44277511  1.        ]]\n",
            "[[19.82414414 -3.49207207]\n",
            " [-3.49207207  3.13765766]]\n"
          ]
        }
      ]
    }
  ]
}