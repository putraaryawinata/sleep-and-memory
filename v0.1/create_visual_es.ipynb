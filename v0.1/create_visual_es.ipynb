{
 "cells": [
  {
   "cell_type": "markdown",
   "metadata": {},
   "source": [
    "# PREPROCESSING DATA"
   ]
  },
  {
   "cell_type": "code",
   "execution_count": 1,
   "metadata": {},
   "outputs": [],
   "source": [
    "import csv\n",
    "import matplotlib.pyplot as plt\n",
    "import numpy as np\n",
    "import pandas as pd"
   ]
  },
  {
   "cell_type": "code",
   "execution_count": 2,
   "metadata": {},
   "outputs": [
    {
     "name": "stdout",
     "output_type": "stream",
     "text": [
      "           NIM  Skor PSQI  Score Backspan Sex  Age\n",
      "0   1902511093         12               3   P   20\n",
      "1   1902511038         20               3   L   21\n",
      "2   1902511030         12               0   P   21\n",
      "3   1902511190         10               2   P   21\n",
      "4   1902511019          9               5   L   20\n",
      "..         ...        ...             ...  ..  ...\n",
      "70  1902511045         11               5   L   20\n",
      "71  1902511047          6               5   L   21\n",
      "72  1902511218          8               3   P   20\n",
      "73  1902511003          8               3   P   20\n",
      "74  1902511102         10               3   P   21\n",
      "\n",
      "[75 rows x 5 columns]\n"
     ]
    }
   ],
   "source": [
    "dataset = pd.read_csv(\"final_data_result.csv\", delimiter=\",\")\n",
    "print(dataset)"
   ]
  },
  {
   "cell_type": "markdown",
   "metadata": {},
   "source": [
    "# SEX DISTRIBUTION"
   ]
  },
  {
   "cell_type": "code",
   "execution_count": 32,
   "metadata": {},
   "outputs": [
    {
     "name": "stdout",
     "output_type": "stream",
     "text": [
      "Jumlah Perempuan: 48\n",
      "Jumlah Laki-Laki: 27\n"
     ]
    },
    {
     "data": {
      "image/png": "[encoded data removed]",
      "text/plain": [
       "<Figure size 640x480 with 1 Axes>"
      ]
     },
     "metadata": {},
     "output_type": "display_data"
    }
   ],
   "source": [
    "# Determine the sex distribution\n",
    "sex = list(dataset[\"Sex\"])\n",
    "p = 0\n",
    "l = 0\n",
    "for s in sex:\n",
    "    if s == \"P\":\n",
    "        p += 1\n",
    "    elif s == \"L\":\n",
    "        l += 1\n",
    "\n",
    "print(\"Jumlah Perempuan: {}\".format(p))\n",
    "print(\"Jumlah Laki-Laki: {}\".format(l))\n",
    "\n",
    "# Create The PieChart\n",
    "y = np.array([27, 48])\n",
    "mylabels = [\"Laki-Laki\", \"Perempuan\"]\n",
    "myexplode = [0.2, 0]\n",
    "\n",
    "plt.pie(y, labels=mylabels, explode = myexplode)\n",
    "plt.savefig(\"piechartsex.png\")\n",
    "plt.show()"
   ]
  },
  {
   "cell_type": "code",
   "execution_count": 34,
   "metadata": {},
   "outputs": [
    {
     "name": "stdout",
     "output_type": "stream",
     "text": [
      "Persentase Laki-Laki: 0.36\n",
      "Persentase Perempuan: 0.64\n"
     ]
    }
   ],
   "source": [
    "print(\"Persentase Laki-Laki: {}\".format(l / (p+l)))\n",
    "print(\"Persentase Perempuan: {}\".format(p / (p+l)))"
   ]
  },
  {
   "cell_type": "markdown",
   "metadata": {},
   "source": [
    "# AGE DISTRIBUTION"
   ]
  },
  {
   "cell_type": "code",
   "execution_count": 20,
   "metadata": {},
   "outputs": [
    {
     "name": "stdout",
     "output_type": "stream",
     "text": [
      "Mean Umur: 20.8\n",
      "STD Umur: 0.6110100926607787\n"
     ]
    }
   ],
   "source": [
    "# Analyzing the total \n",
    "age_list = []\n",
    "age_list = list(dataset[\"Age\"])\n",
    "age_list = np.array(age_list)\n",
    "# print(age_list)\n",
    "total = 0\n",
    "for age in age_list:\n",
    "    total += age\n",
    "# print(total)\n",
    "print(\"Mean Umur: {}\".format(total / len(age_list)))\n",
    "print(\"STD Umur: {}\".format(np.std(age_list)))"
   ]
  },
  {
   "cell_type": "code",
   "execution_count": 21,
   "metadata": {},
   "outputs": [
    {
     "name": "stdout",
     "output_type": "stream",
     "text": [
      "Mean Umur Laki-laki: 20.74074074074074\n",
      "STD Umur Laki-laki: 0.6988134171893782\n",
      "Mean Umur Perempuan: 20.833333333333332\n",
      "STD Umur Perempuan: 0.5527707983925666\n"
     ]
    }
   ],
   "source": [
    "age_lakilaki_list = []\n",
    "age_perempuan_list = []\n",
    "\n",
    "# Analyzing the Laki-laki\n",
    "pria_dataset = dataset.query('Sex == \"L\"')\n",
    "# print(list(pria_dataset[\"Age\"]))\n",
    "age_lakilaki_list = list(pria_dataset[\"Age\"])\n",
    "age_lakilaki_list = np.array(age_lakilaki_list)\n",
    "print(\"Mean Umur Laki-laki: {}\".format(np.mean(age_lakilaki_list)))\n",
    "print(\"STD Umur Laki-laki: {}\".format(np.std(age_lakilaki_list)))\n",
    "\n",
    "# Analyzing the Wanita\n",
    "wanita_dataset = dataset.query('Sex == \"P\"')\n",
    "# print(list(wanita_dataset[\"Age\"]))\n",
    "age_perempuan_list = list(wanita_dataset[\"Age\"])\n",
    "age_perempuan_list = np.array(age_perempuan_list)\n",
    "print(\"Mean Umur Perempuan: {}\".format(np.mean(age_perempuan_list)))\n",
    "print(\"STD Umur Perempuan: {}\".format(np.std(age_perempuan_list)))"
   ]
  },
  {
   "cell_type": "markdown",
   "metadata": {},
   "source": [
    "# Analisis Skor PSQI dan Digit Backspan"
   ]
  },
  {
   "cell_type": "code",
   "execution_count": 28,
   "metadata": {},
   "outputs": [
    {
     "name": "stdout",
     "output_type": "stream",
     "text": [
      "Mean Skor PSQI: 9.346666666666666\n",
      "STD Skor PSQI: 4.422648778981011\n",
      "Median Skor PSQI: 9.0\n",
      "Min ke Max Skor PSQI: 1 - 24\n"
     ]
    }
   ],
   "source": [
    "psqi_list = []\n",
    "psqi_list = list(dataset[\"Skor PSQI\"])\n",
    "psqi_list = np.array(psqi_list)\n",
    "print(\"Mean Skor PSQI: {}\".format(np.mean(psqi_list)))\n",
    "print(\"STD Skor PSQI: {}\".format(np.std(psqi_list)))\n",
    "print(\"Median Skor PSQI: {}\".format(np.median(psqi_list)))\n",
    "print(\"Min ke Max Skor PSQI: {} - {}\".format(np.min(psqi_list), np.max(psqi_list)))"
   ]
  },
  {
   "cell_type": "code",
   "execution_count": 30,
   "metadata": {},
   "outputs": [
    {
     "name": "stdout",
     "output_type": "stream",
     "text": [
      "Mean Skor backspan: 3.7466666666666666\n",
      "STD Skor backspan: 1.759494877009371\n",
      "Median Skor backspan: 4.0\n",
      "Min ke Max Skor backspan: 0 - 7\n"
     ]
    }
   ],
   "source": [
    "backspan = []\n",
    "backspan = list(dataset[\"Score Backspan\"])\n",
    "backspan = np.array(backspan)\n",
    "print(\"Mean Skor backspan: {}\".format(np.mean(backspan)))\n",
    "print(\"STD Skor backspan: {}\".format(np.std(backspan)))\n",
    "print(\"Median Skor backspan: {}\".format(np.median(backspan)))\n",
    "print(\"Min ke Max Skor backspan: {} - {}\".format(np.min(backspan), np.max(backspan)))"
   ]
  },
  {
   "cell_type": "markdown",
   "metadata": {},
   "source": [
    "# Summary PSQI dan Backspan"
   ]
  },
  {
   "cell_type": "markdown",
   "metadata": {},
   "source": [
    "## Jenis Kelamin\n",
    "Jumlah Perempuan: 48\n",
    "Jumlah Laki-Laki: 27\n",
    "\n",
    "## Umur\n",
    "Mean Umur: 20.8\n",
    "STD Umur: 0.6110100926607787\n",
    "\n",
    "Mean Umur Laki-laki: 20.74074074074074\n",
    "STD Umur Laki-laki: 0.6988134171893782\n",
    "Mean Umur Perempuan: 20.833333333333332\n",
    "STD Umur Perempuan: 0.5527707983925666\n",
    "\n",
    "## PSQI\n",
    "Mean Skor PSQI: 9.346666666666666\n",
    "STD Skor PSQI: 4.422648778981011\n",
    "Median Skor PSQI: 9.0\n",
    "Min ke Max Skor PSQI: 1 - 24\n",
    "\n",
    "## Backspan\n",
    "Mean Skor backspan: 3.7466666666666666\n",
    "STD Skor backspan: 1.759494877009371\n",
    "Median Skor backspan: 4.0\n",
    "Min ke Max Skor backspan: 0 - 7"
   ]
  },
  {
   "cell_type": "markdown",
   "metadata": {},
   "source": []
  }
 ],
 "metadata": {
  "kernelspec": {
   "display_name": "Python 3.8.9 64-bit (system)",
   "language": "python",
   "name": "python3"
  },
  "language_info": {
   "codemirror_mode": {
    "name": "ipython",
    "version": 3
   },
   "file_extension": ".py",
   "mimetype": "text/x-python",
   "name": "python",
   "nbconvert_exporter": "python",
   "pygments_lexer": "ipython3",
   "version": "3.8.9"
  },
  "orig_nbformat": 4,
  "vscode": {
   "interpreter": {
    "hash": "ca2371f9e1a524f9d28888910f32e3d800ca4fb615a2e7199bbe3ba03f0282be"
   }
  }
 },
 "nbformat": 4,
 "nbformat_minor": 2
}
